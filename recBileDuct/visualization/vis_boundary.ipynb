{
 "cells": [
  {
   "cell_type": "code",
   "execution_count": 1,
   "metadata": {},
   "outputs": [],
   "source": [
    "import SimpleITK as sitk\n",
    "import matplotlib.pyplot as plt\n",
    "def show_img(res):\n",
    "    plt.imshow(res, cmap ='gray')\n",
    "    plt.show()\n"
   ]
  },
  {
   "cell_type": "code",
   "execution_count": 2,
   "metadata": {},
   "outputs": [],
   "source": [
    "la_pre_path = '/data1/zfx/code/latentAugmentation/predict/cop-6/BileDuct_010.nii.gz'\n",
    "tag_pre_path = '/data1/zfx/data/BileDuct/predict/ATM_V9/postprocess/BileDuct_010.nii.gz'\n",
    "label_path = '/data1/zfx/data/BileDuct/raw_data/labelsTs/BileDuct_010_label.nii.gz'"
   ]
  },
  {
   "cell_type": "code",
   "execution_count": 3,
   "metadata": {},
   "outputs": [],
   "source": [
    "la_pre = sitk.ReadImage(la_pre_path)\n",
    "la_pre = sitk.GetArrayFromImage(la_pre)\n",
    "\n",
    "tag_pre = sitk.ReadImage(tag_pre_path)\n",
    "tag_pre = sitk.GetArrayFromImage(tag_pre)\n",
    "\n",
    "label = sitk.ReadImage(label_path)\n",
    "label = sitk.GetArrayFromImage(label)"
   ]
  },
  {
   "cell_type": "code",
   "execution_count": 4,
   "metadata": {},
   "outputs": [],
   "source": [
    "label = label[368][180:260,160:240]\n",
    "la = la_pre[368][180:260,160:240]\n",
    "tag = tag_pre[368][180:260,160:240]"
   ]
  },
  {
   "cell_type": "code",
   "execution_count": 5,
   "metadata": {},
   "outputs": [
    {
     "data": {
      "image/png": "[encoded data removed]",
      "text/plain": [
       "<Figure size 432x288 with 1 Axes>"
      ]
     },
     "metadata": {
      "needs_background": "light"
     },
     "output_type": "display_data"
    },
    {
     "data": {
      "image/png": "[encoded data removed]",
      "text/plain": [
       "<Figure size 432x288 with 1 Axes>"
      ]
     },
     "metadata": {
      "needs_background": "light"
     },
     "output_type": "display_data"
    },
    {
     "data": {
      "image/png": "[encoded data removed]",
      "text/plain": [
       "<Figure size 432x288 with 1 Axes>"
      ]
     },
     "metadata": {
      "needs_background": "light"
     },
     "output_type": "display_data"
    }
   ],
   "source": [
    "plt.imshow(label, cmap='gray')\n",
    "plt.axis('off')\n",
    "plt.show()\n",
    "\n",
    "# 保存label为PNG格式\n",
    "plt.imsave('label.png', label, cmap='gray')\n",
    "\n",
    "plt.imshow(tag, cmap='gray')\n",
    "plt.axis('off')\n",
    "plt.show()\n",
    "\n",
    "# 保存tag为PNG格式\n",
    "plt.imsave('tag.png', tag, cmap='gray')\n",
    "\n",
    "\n",
    "plt.imshow(la, cmap='gray')\n",
    "plt.axis('off')\n",
    "plt.show()\n",
    "\n",
    "# 保存la为PNG格式\n",
    "plt.imsave('la.png', la, cmap='gray')"
   ]
  },
  {
   "cell_type": "code",
   "execution_count": null,
   "metadata": {},
   "outputs": [],
   "source": []
  },
  {
   "cell_type": "code",
   "execution_count": 7,
   "metadata": {},
   "outputs": [
    {
     "data": {
      "image/png": "[encoded data removed]",
      "text/plain": [
       "<Figure size 432x288 with 1 Axes>"
      ]
     },
     "metadata": {
      "needs_background": "light"
     },
     "output_type": "display_data"
    }
   ],
   "source": [
    "import cv2\n",
    "import numpy as np\n",
    "from matplotlib import pyplot as plt\n",
    "%matplotlib inline\n",
    "\n",
    "# 读取真实标签和预测结果的二值图像\n",
    "true_label = cv2.imread('label.png', cv2.IMREAD_GRAYSCALE)\n",
    "predicted = cv2.imread('la.png', cv2.IMREAD_GRAYSCALE)\n",
    "\n",
    "# 创建一个3通道的空白图像\n",
    "h, w = true_label.shape\n",
    "result = np.zeros((h, w, 3), dtype=np.uint8)\n",
    "\n",
    "# 将真实标签设置为蓝色\n",
    "result[true_label == 255] = (255, 0, 0)\n",
    "\n",
    "# 将预测结果设置为红色\n",
    "result[predicted == 255] = (0, 0, 255)\n",
    "\n",
    "# 显示可视化结果\n",
    "plt.imshow(result)\n",
    "plt.axis('off')\n",
    "plt.show()\n"
   ]
  },
  {
   "cell_type": "code",
   "execution_count": null,
   "metadata": {},
   "outputs": [],
   "source": []
  }
 ],
 "metadata": {
  "kernelspec": {
   "display_name": "zfx",
   "language": "python",
   "name": "python3"
  },
  "language_info": {
   "codemirror_mode": {
    "name": "ipython",
    "version": 3
   },
   "file_extension": ".py",
   "mimetype": "text/x-python",
   "name": "python",
   "nbconvert_exporter": "python",
   "pygments_lexer": "ipython3",
   "version": "3.8.10"
  },
  "orig_nbformat": 4
 },
 "nbformat": 4,
 "nbformat_minor": 2
}
